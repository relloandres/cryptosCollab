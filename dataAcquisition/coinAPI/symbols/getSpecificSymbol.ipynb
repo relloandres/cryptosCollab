{
 "cells": [
  {
   "cell_type": "code",
   "execution_count": 1,
   "metadata": {},
   "outputs": [],
   "source": [
    "import json"
   ]
  },
  {
   "cell_type": "code",
   "execution_count": 2,
   "metadata": {},
   "outputs": [],
   "source": [
    "with open(\"symbols_list.json\") as jsonFile:\n",
    "    symbols = json.load(jsonFile)"
   ]
  },
  {
   "cell_type": "code",
   "execution_count": 3,
   "metadata": {},
   "outputs": [
    {
     "data": {
      "text/plain": [
       "113128"
      ]
     },
     "execution_count": 3,
     "metadata": {},
     "output_type": "execute_result"
    }
   ],
   "source": [
    "symbols.__len__()"
   ]
  },
  {
   "cell_type": "code",
   "execution_count": 9,
   "metadata": {},
   "outputs": [
    {
     "name": "stdout",
     "output_type": "stream",
     "text": [
      "KRAKEN_SPOT_XRP_USD\n",
      "KRAKEN_SPOT_XRP_EUR\n",
      "KRAKEN_SPOT_XRP_BTC\n",
      "KRAKEN_SPOT_XRP_CAD\n",
      "KRAKEN_SPOT_XRP_ETH\n",
      "KRAKEN_SPOT_XRP_USDT\n",
      "KRAKEN_SPOT_XRP_GBP\n",
      "KRAKEN_SPOT_XRP_JPY\n",
      "KRAKEN_SPOT_XRP_BTC_57CD39\n",
      "KRAKEN_SPOT_XRP_CAD_57CD3D\n",
      "KRAKEN_SPOT_XRP_EUR_57CD40\n",
      "KRAKEN_SPOT_XRP_JPY_57CD44\n",
      "KRAKEN_SPOT_XRP_USD_57CD48\n"
     ]
    }
   ],
   "source": [
    "for s in symbols:\n",
    "    if s[\"exchange_id\"]==\"KRAKEN\":\n",
    "        if s[\"symbol_type\"]==\"SPOT\":\n",
    "            if s[\"asset_id_base\"]==\"XRP\":\n",
    "                print(s[\"symbol_id\"])"
   ]
  },
  {
   "cell_type": "code",
   "execution_count": 15,
   "metadata": {
    "scrolled": true
   },
   "outputs": [
    {
     "name": "stdout",
     "output_type": "stream",
     "text": [
      "{'symbol_id': 'KRAKEN_SPOT_XRP_USDT', 'exchange_id': 'KRAKEN', 'symbol_type': 'SPOT', 'asset_id_base': 'XRP', 'asset_id_quote': 'USDT', 'data_start': '2020-04-30', 'data_end': '2020-05-24', 'data_quote_start': '2020-04-30T11:53:57.7849416Z', 'data_quote_end': '2020-05-24T23:03:38.4553010Z', 'data_orderbook_start': '2020-04-30T11:53:57.7849416Z', 'data_orderbook_end': '2020-05-10T21:40:11.1903983Z', 'data_trade_start': '2020-05-01T16:16:03.0010000Z', 'data_trade_end': '2020-05-24T23:09:56.8950000Z', 'volume_1hrs': 1000.0, 'volume_1hrs_usd': 196.62, 'volume_1day': 63970.13968537, 'volume_1day_usd': 12577.6, 'volume_1mth': 1973068.9509936, 'volume_1mth_usd': 387938.29, 'price': 0.196605}\n"
     ]
    }
   ],
   "source": [
    "for s in symbols:\n",
    "    if s[\"symbol_id\"]==\"KRAKEN_SPOT_XRP_USDT\":\n",
    "        print(s)"
   ]
  }
 ],
 "metadata": {
  "kernelspec": {
   "display_name": "Python 3",
   "language": "python",
   "name": "python3"
  },
  "language_info": {
   "codemirror_mode": {
    "name": "ipython",
    "version": 3
   },
   "file_extension": ".py",
   "mimetype": "text/x-python",
   "name": "python",
   "nbconvert_exporter": "python",
   "pygments_lexer": "ipython3",
   "version": "3.7.7"
  }
 },
 "nbformat": 4,
 "nbformat_minor": 4
}
