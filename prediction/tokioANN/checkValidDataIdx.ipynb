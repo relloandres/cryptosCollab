{
 "cells": [
  {
   "cell_type": "code",
   "execution_count": 1,
   "metadata": {},
   "outputs": [],
   "source": [
    "import numpy as np\n",
    "import json\n",
    "import helpers as hp"
   ]
  },
  {
   "cell_type": "code",
   "execution_count": 81,
   "metadata": {},
   "outputs": [],
   "source": [
    "def check_number_of_valid_idx(data_lengt,N,empty_periods_idx):\n",
    "    number_of_valid_idx = 0\n",
    "\n",
    "    diff = empty_periods_idx[0]- N + 1\n",
    "\n",
    "    if diff>0:\n",
    "        number_of_valid_idx = diff\n",
    "\n",
    "    for i in range(len(empty_periods_idx)-1):\n",
    "        diff = empty_periods_idx[i+1]-empty_periods_idx[i]- N\n",
    "\n",
    "        if diff>0:\n",
    "            number_of_valid_idx += empty_periods_idx[i+1]-empty_periods_idx[i]- N\n",
    "\n",
    "    diff = data_lengt - empty_periods_idx[-1] - N\n",
    "\n",
    "    if diff>0:\n",
    "        number_of_valid_idx += diff\n",
    "        \n",
    "    return number_of_valid_idx\n",
    "    "
   ]
  },
  {
   "cell_type": "code",
   "execution_count": 66,
   "metadata": {},
   "outputs": [],
   "source": [
    "file_path = \"../../dataAcquisition/coinAPI/data/coinbase/BTC-USD/COINBASE_SPOT_BTC_USD_25-5-2019_28-6-2019.json\"\n",
    "\n",
    "with open(file_path) as json_file:\n",
    "    data = json.load(json_file)"
   ]
  },
  {
   "cell_type": "code",
   "execution_count": 79,
   "metadata": {},
   "outputs": [],
   "source": [
    "N = 10\n",
    "empty_periods_idx,_ = hp.get_empty_periods(data,\"5MIN\")\n",
    "data_valid_idx = hp.get_valid_data_idx(data,\"5MIN\",N)"
   ]
  },
  {
   "cell_type": "code",
   "execution_count": 82,
   "metadata": {},
   "outputs": [
    {
     "name": "stdout",
     "output_type": "stream",
     "text": [
      "Deberia haber 9739 datos validos\n",
      "Se encontraron 9739 datos validos\n"
     ]
    }
   ],
   "source": [
    "# Revisar que el número de indices validos corresponda con la información de las lagunas\n",
    "print(f\"Deberia haber {check_number_of_valid_idx(len(data),N,empty_periods_idx)} datos validos\")\n",
    "print(f\"Se encontraron {len(data_valid_idx)} datos validos\")"
   ]
  }
 ],
 "metadata": {
  "kernelspec": {
   "display_name": "Python 3",
   "language": "python",
   "name": "python3"
  },
  "language_info": {
   "codemirror_mode": {
    "name": "ipython",
    "version": 3
   },
   "file_extension": ".py",
   "mimetype": "text/x-python",
   "name": "python",
   "nbconvert_exporter": "python",
   "pygments_lexer": "ipython3",
   "version": "3.7.7"
  }
 },
 "nbformat": 4,
 "nbformat_minor": 4
}
